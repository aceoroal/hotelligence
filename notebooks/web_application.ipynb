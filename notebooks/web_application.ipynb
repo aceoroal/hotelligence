{
 "cells": [
  {
   "cell_type": "markdown",
   "id": "259a644c",
   "metadata": {},
   "source": [
    "# 🌐 Web Application Overview\n",
    "\n",
    "This notebook walks through the usage and design of the Dash-based hotel prediction system. It predicts:\n",
    "- **Cancellation Probability**\n",
    "- **Average Daily Rate (ADR)**"
   ]
  },
  {
   "cell_type": "markdown",
   "id": "20411cc3",
   "metadata": {},
   "source": [
    "### How model is used"
   ]
  },
  {
   "cell_type": "markdown",
   "id": "70e450a2",
   "metadata": {},
   "source": [
    "#### User Inputs"
   ]
  },
  {
   "cell_type": "code",
   "execution_count": 70,
   "id": "f99c96c5",
   "metadata": {},
   "outputs": [],
   "source": [
    "from datetime import date\n",
    "\n",
    "hotel_type = 'City Hotel' # City Hotel, Resort Hotel\n",
    "room_type = 'A' # (A)Superior Room, (B)Standard Room, (C)Family Room, (D)Dulex Room, (E)Double Room, (F)Executive Room, (G)Premium Suite, (H)Junior Suite\n",
    "checkin_date = '2025-4-12'\n",
    "checkout_date = '2025-4-29'\n",
    "adults = 2\n",
    "children = 2\n",
    "babies = 0\n",
    "previous_cancellations = 0\n",
    "meal = 'HB' # (BB)Bed and Breakfast, (HB)Half Board, (FB)Fuul Borad, (SC)Self Catering\n",
    "special_requests = 2\n",
    "market_segment = 'Online TA' # Direct, Corporate, Groups, Online TA, Offline TA/TO, Aviation\n",
    "distribution_channel = 'TA/TO' # Direct, Corporate, TA/TO, GDS\n",
    "repeated_guest = 0 # Yes(1), No(0)\n",
    "customer_type = 'Transient' # Transient, Transient-Party, Contract, Group\n",
    "deposit_type = 'Non Refund' # No Deposit, Refundable, Non Refund"
   ]
  },
  {
   "cell_type": "markdown",
   "id": "5afc0312",
   "metadata": {},
   "source": [
    "#### Importing libraries, Loading models and encoders"
   ]
  },
  {
   "cell_type": "code",
   "execution_count": 71,
   "id": "89392d65",
   "metadata": {},
   "outputs": [],
   "source": [
    "import joblib\n",
    "import pandas as pd\n",
    "import numpy as np\n",
    "\n",
    "# Load models\n",
    "model_cancel = joblib.load(\"../artifacts/model_cancel.pkl\")\n",
    "model_adr = joblib.load(\"../artifacts/model_adr.pkl\")\n",
    "\n",
    "# Load encoder\n",
    "encoders = joblib.load(\"../artifacts/encoders.pkl\")\n",
    "feature_order = joblib.load(\"../artifacts/adr_features.pkl\")"
   ]
  },
  {
   "cell_type": "markdown",
   "id": "44de8446",
   "metadata": {},
   "source": [
    "#### Calculations and Processing"
   ]
  },
  {
   "cell_type": "code",
   "execution_count": 72,
   "id": "f85e49ea",
   "metadata": {},
   "outputs": [],
   "source": [
    "import datetime\n",
    "\n",
    "date_obj = datetime.datetime.strptime(checkin_date, \"%Y-%m-%d\").date()\n",
    "#calculate the lead time\n",
    "today = datetime.date.today()\n",
    "lead_time = (date_obj - today).days\n",
    "\n",
    "# Calculate Week Nights and Weekend Nights based on the Check-in and Check-out Dates\n",
    "checkin = datetime.datetime.strptime(checkin_date, \"%Y-%m-%d\")\n",
    "checkout = datetime.datetime.strptime(checkout_date, \"%Y-%m-%d\")\n",
    "\n",
    "nights = (checkout - checkin).days # Total nights\n",
    "week_nights = 0\n",
    "weekend_nights = 0\n",
    "\n",
    "for i in range(nights):\n",
    "    day = (checkin + datetime.timedelta(days=i)).weekday()\n",
    "    if day < 5:  # Mon–Fri (0–4)\n",
    "        week_nights += 1\n",
    "    else:  # Sat–Sun (5–6)\n",
    "        weekend_nights += 1\n",
    "\n",
    "# Create input for ADR model (manually encoded as used during training)\n",
    "hotel_enc = 1 if hotel_type == \"Resort Hotel\" else 0\n",
    "deposit_enc = {\"No Deposit\": 0, \"Refundable\": 1, \"Non Refund\": 2}.get(deposit_type, 0)"
   ]
  },
  {
   "cell_type": "markdown",
   "id": "88bc7dad",
   "metadata": {},
   "source": [
    "#### Predictions"
   ]
  },
  {
   "cell_type": "code",
   "execution_count": 73,
   "id": "fa5c722a",
   "metadata": {},
   "outputs": [],
   "source": [
    "# Cancellation Prediction\n",
    "cancel_input = pd.DataFrame([{\n",
    "    'hotel': hotel_type,\n",
    "    'lead_time': lead_time,\n",
    "    # Dividing the Date from the DateTime Picker to these three (Month, Week and Day).\n",
    "    'arrival_date_month': date_obj.strftime(\"%B\"), # Convert from a month number to a month string (e.g 4 -> April)\n",
    "    'arrival_date_week_number': date_obj.isocalendar().week,\n",
    "    'arrival_date_day_of_month': date_obj.day,\n",
    "    #----------------------------------------------------------------------------------------------------\n",
    "    'stays_in_weekend_nights': weekend_nights,\n",
    "    'stays_in_week_nights': week_nights,\n",
    "    'adults': adults,\n",
    "    'children': children,\n",
    "    'babies': babies,\n",
    "    'meal': meal,\n",
    "    'market_segment': market_segment,\n",
    "    'distribution_channel': distribution_channel,\n",
    "    'is_repeated_guest': repeated_guest,\n",
    "    'previous_cancellations': previous_cancellations,\n",
    "    'previous_bookings_not_canceled': 0,\n",
    "    'reserved_room_type': room_type,\n",
    "    'assigned_room_type': room_type,\n",
    "    'booking_changes': 0,\n",
    "    'deposit_type': deposit_type,\n",
    "    'agent': 0.0,\n",
    "    'days_in_waiting_list': 0,\n",
    "    'customer_type': customer_type,\n",
    "    'required_car_parking_spaces': 0,\n",
    "    'total_of_special_requests': special_requests\n",
    "}])\n",
    "\n",
    "# Prediction\n",
    "cancel_prob = model_cancel.predict_proba(cancel_input)[0][1]\n",
    "\n",
    "# ++++++++++++++++++++++++++++++++++++++++++++++++++++++++++++++++++++++++++++++++++++++++++++++++++++++++++++++++++++++++\n",
    "\n",
    "# ADR Prediction\n",
    "adr_input = pd.DataFrame([{\n",
    "    'hotel': hotel_enc,\n",
    "    'lead_time': lead_time,\n",
    "    'stays_in_weekend_nights': weekend_nights,\n",
    "    'stays_in_week_nights': week_nights,\n",
    "    'adults': adults,\n",
    "    'children': children,\n",
    "    'babies': babies,\n",
    "    'meal': meal,\n",
    "    'market_segment': market_segment,\n",
    "    'distribution_channel': distribution_channel,\n",
    "    'is_repeated_guest': repeated_guest,\n",
    "    'previous_cancellations': previous_cancellations,\n",
    "    'reserved_room_type': room_type,\n",
    "    'assigned_room_type': room_type,\n",
    "    'deposit_type': deposit_enc,\n",
    "    'customer_type': customer_type,\n",
    "    'total_of_special_requests': special_requests\n",
    "}])\n",
    "\n",
    "# Loading the encoders\n",
    "label_encoders = joblib.load(\"../artifacts/encoders.pkl\")\n",
    "adr_feature_order = joblib.load(\"../artifacts/adr_features.pkl\")\n",
    "\n",
    "for col in ['meal', 'market_segment', 'distribution_channel', 'reserved_room_type', 'assigned_room_type', 'customer_type']:\n",
    "    adr_input[col] = label_encoders[col].transform(adr_input[col])\n",
    "\n",
    "# Reorder to match training\n",
    "adr_input = adr_input[adr_feature_order]\n",
    "\n",
    "# Prediction\n",
    "adr_pred = np.expm1(model_adr.predict(adr_input)[0])"
   ]
  },
  {
   "cell_type": "markdown",
   "id": "59945f9d",
   "metadata": {},
   "source": [
    "#### Output"
   ]
  },
  {
   "cell_type": "code",
   "execution_count": 74,
   "id": "8c80ebfe",
   "metadata": {},
   "outputs": [
    {
     "name": "stdout",
     "output_type": "stream",
     "text": [
      "Cancellation Probability: 76%\n",
      "Estimated ADR: R147.39\n"
     ]
    }
   ],
   "source": [
    "# Output\n",
    "print(f\"Cancellation Probability: {cancel_prob * 100:.0f}%\")\n",
    "print(f\"Estimated ADR: R{adr_pred:.2f}\")"
   ]
  }
 ],
 "metadata": {
  "kernelspec": {
   "display_name": "base",
   "language": "python",
   "name": "python3"
  },
  "language_info": {
   "codemirror_mode": {
    "name": "ipython",
    "version": 3
   },
   "file_extension": ".py",
   "mimetype": "text/x-python",
   "name": "python",
   "nbconvert_exporter": "python",
   "pygments_lexer": "ipython3",
   "version": "3.10.9"
  }
 },
 "nbformat": 4,
 "nbformat_minor": 5
}
