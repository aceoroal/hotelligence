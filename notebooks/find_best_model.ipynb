{
 "cells": [
  {
   "cell_type": "code",
   "execution_count": 1,
   "id": "7110d5cf",
   "metadata": {},
   "outputs": [],
   "source": [
    "import pandas as pd\n",
    "import numpy as np\n",
    "from sklearn.model_selection import train_test_split\n",
    "from sklearn.preprocessing import LabelEncoder, StandardScaler\n",
    "from sklearn.metrics import (accuracy_score, f1_score, roc_auc_score,\n",
    "                             mean_absolute_error, r2_score)\n",
    "from sklearn.linear_model import LogisticRegression, LinearRegression\n",
    "from sklearn.ensemble import (RandomForestClassifier, RandomForestRegressor,\n",
    "                              GradientBoostingClassifier, GradientBoostingRegressor)\n",
    "from sklearn.neural_network import MLPClassifier, MLPRegressor\n",
    "from xgboost import XGBClassifier, XGBRegressor\n",
    "import matplotlib.pyplot as plt\n",
    "import seaborn as sns"
   ]
  },
  {
   "cell_type": "markdown",
   "id": "e0948e02",
   "metadata": {},
   "source": [
    "#### Train and Encode"
   ]
  },
  {
   "cell_type": "code",
   "execution_count": 3,
   "id": "99bb00e2",
   "metadata": {},
   "outputs": [],
   "source": [
    "train_df = pd.read_csv(\"../data/hotel_bookings.csv\")\n",
    "cat_cols = train_df.select_dtypes(include='object').columns\n",
    "encoders = {}\n",
    "for col in cat_cols:\n",
    "    le = LabelEncoder()\n",
    "    train_df[col] = le.fit_transform(train_df[col])\n",
    "    encoders[col] = le"
   ]
  },
  {
   "cell_type": "markdown",
   "id": "c37f8e1f",
   "metadata": {},
   "source": [
    "Cancellation (Classification)"
   ]
  },
  {
   "cell_type": "code",
   "execution_count": 14,
   "id": "8a824af2",
   "metadata": {},
   "outputs": [
    {
     "name": "stdout",
     "output_type": "stream",
     "text": [
      "🏆 Best cancellation model: RF\n",
      "             ACC        F1       AUC\n",
      "LogReg  0.988776  0.984630  0.974169\n",
      "RF      0.999958  0.999943  1.000000\n",
      "GB      1.000000  1.000000  1.000000\n",
      "XGB     1.000000  1.000000  1.000000\n",
      "MLP     1.000000  1.000000  1.000000\n"
     ]
    }
   ],
   "source": [
    "X_c = train_df.drop('is_canceled', axis=1)\n",
    "X_c = X_c.fillna(-1)      # numeric NaNs to -1\n",
    "X_c = X_c.astype(float)   # ensure numeric dtype after fill\n",
    "y_c = train_df['is_canceled'].astype(int)\n",
    "\n",
    "from sklearn.compose import ColumnTransformer\n",
    "from sklearn.pipeline import Pipeline\n",
    "from sklearn.impute import SimpleImputer\n",
    "from sklearn.preprocessing import StandardScaler\n",
    "\n",
    "num_cols = X_c.select_dtypes(include='number').columns\n",
    "cat_cols = X_c.select_dtypes(exclude='number').columns\n",
    "\n",
    "pre = ColumnTransformer([\n",
    "    ('num', Pipeline([\n",
    "        ('imp', SimpleImputer(strategy='median')),\n",
    "        ('sc',  StandardScaler())            # optional\n",
    "    ]), num_cols),\n",
    "    ('cat', Pipeline([\n",
    "        ('imp', SimpleImputer(strategy='most_frequent'))\n",
    "    ]), cat_cols)\n",
    "])\n",
    "\n",
    "# rebuild the models dictionary with pipelines\n",
    "from sklearn.linear_model import LogisticRegression\n",
    "from sklearn.ensemble import RandomForestClassifier, GradientBoostingClassifier\n",
    "from xgboost import XGBClassifier\n",
    "from sklearn.neural_network import MLPClassifier\n",
    "\n",
    "Xc_tr, Xc_val, yc_tr, yc_val = train_test_split(X_c, y_c, test_size=0.2, random_state=42, stratify=y_c)\n",
    "\n",
    "base_clfs = {\n",
    "    'LogReg':  LogisticRegression(max_iter=1000),\n",
    "    'RF'    :  RandomForestClassifier(n_estimators=200, random_state=42),\n",
    "    'GB'    :  GradientBoostingClassifier(random_state=42),\n",
    "    'XGB'   :  XGBClassifier(n_estimators=300, learning_rate=0.05,\n",
    "                             max_depth=6, subsample=0.8,\n",
    "                             eval_metric='logloss', random_state=42),\n",
    "    'MLP'   :  MLPClassifier(hidden_layer_sizes=(64,32),\n",
    "                             max_iter=300, random_state=42)\n",
    "}\n",
    "\n",
    "class_models = {\n",
    "    name: Pipeline([('pre', pre), ('clf', clf)])\n",
    "    for name, clf in base_clfs.items()\n",
    "}\n",
    "\n",
    "c_metrics = {}\n",
    "for name, mdl in class_models.items():\n",
    "    mdl.fit(Xc_tr, yc_tr)\n",
    "    preds = mdl.predict(Xc_val)\n",
    "    proba = mdl.predict_proba(Xc_val)[:,1]\n",
    "    c_metrics[name] = {\n",
    "        'ACC': accuracy_score(yc_val, preds),\n",
    "        'F1' : f1_score(yc_val, preds),\n",
    "        'AUC': roc_auc_score(yc_val, proba)\n",
    "    }\n",
    "\n",
    "best_clf_name = max(c_metrics, key=lambda k: c_metrics[k]['AUC'])\n",
    "print(\"🏆 Best cancellation model:\", best_clf_name)\n",
    "print(pd.DataFrame(c_metrics).T)"
   ]
  },
  {
   "cell_type": "markdown",
   "id": "97ef6030",
   "metadata": {},
   "source": [
    "ADR (Classification)"
   ]
  },
  {
   "cell_type": "code",
   "execution_count": 20,
   "id": "16010de7",
   "metadata": {},
   "outputs": [
    {
     "name": "stdout",
     "output_type": "stream",
     "text": [
      "🏆 Best ADR model → RF\n",
      "              R2        MAE\n",
      "LinReg  0.264343  25.824479\n",
      "RF      0.599159   6.593829\n",
      "GB      0.485593  16.319676\n",
      "XGB     0.578913  10.220724\n",
      "MLP     0.121199  30.557214\n"
     ]
    }
   ],
   "source": [
    "\n",
    "# 1️⃣  keep rows with a valid, positive ADR\n",
    "df_reg = train_df[(train_df['adr'].notna()) & (train_df['adr'] > 0)].copy()\n",
    "\n",
    "# 2️⃣  features (fill NaN in X) and target (no NaN now)\n",
    "X_r = df_reg.drop('adr', axis=1).fillna(-1)\n",
    "y_r = np.log1p(df_reg['adr'])\n",
    "\n",
    "# 3️⃣  train / validation split\n",
    "Xr_tr, Xr_val, yr_tr, yr_val = train_test_split(\n",
    "    X_r, y_r, test_size=0.2, random_state=42)\n",
    "\n",
    "reg_models = {\n",
    "    'LinReg': LinearRegression(),\n",
    "    'RF'    : RandomForestRegressor(n_estimators=200, random_state=42),\n",
    "    'GB'    : GradientBoostingRegressor(random_state=42),\n",
    "    'XGB'   : XGBRegressor(n_estimators=300, learning_rate=0.05,\n",
    "                           max_depth=6, subsample=0.8, random_state=42),\n",
    "    'MLP'   : MLPRegressor(hidden_layer_sizes=(128,64),\n",
    "                           max_iter=300, random_state=42)\n",
    "}\n",
    "\n",
    "r_metrics = {}\n",
    "for name, mdl in reg_models.items():\n",
    "    mdl.fit(Xr_tr, yr_tr)\n",
    "    pred = np.expm1(mdl.predict(Xr_val))\n",
    "    true = np.expm1(yr_val)\n",
    "    r_metrics[name] = {\n",
    "        'R2' : r2_score(true, pred),\n",
    "        'MAE': mean_absolute_error(true, pred)\n",
    "    }\n",
    "\n",
    "best_reg_name = max(r_metrics, key=lambda k: r_metrics[k]['R2'])\n",
    "print(\"🏆 Best ADR model →\", best_reg_name)\n",
    "print(pd.DataFrame(r_metrics).T)"
   ]
  }
 ],
 "metadata": {
  "kernelspec": {
   "display_name": "base",
   "language": "python",
   "name": "python3"
  },
  "language_info": {
   "codemirror_mode": {
    "name": "ipython",
    "version": 3
   },
   "file_extension": ".py",
   "mimetype": "text/x-python",
   "name": "python",
   "nbconvert_exporter": "python",
   "pygments_lexer": "ipython3",
   "version": "3.10.9"
  }
 },
 "nbformat": 4,
 "nbformat_minor": 5
}
